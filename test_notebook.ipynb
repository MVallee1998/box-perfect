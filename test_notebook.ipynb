{
 "cells": [
  {
   "cell_type": "code",
   "execution_count": 1,
   "id": "402ff894",
   "metadata": {},
   "outputs": [],
   "source": [
    "import sympy as sp\n",
    "import numpy as np\n",
    "from sympy import Matrix,ZZ\n",
    "from sympy.matrices.normalforms import hermite_normal_form"
   ]
  },
  {
   "cell_type": "code",
   "execution_count": 9,
   "id": "63be9be6",
   "metadata": {},
   "outputs": [
    {
     "data": {
      "text/latex": [
       "$\\displaystyle \\left[\\begin{matrix}4 & 2 & 2 & 2 & 2 & 1\\\\0 & 2 & 0 & 0 & 0 & 1\\\\0 & 0 & 2 & 0 & 0 & 1\\\\0 & 0 & 0 & 2 & 0 & 1\\\\0 & 0 & 0 & 0 & 2 & 1\\\\0 & 0 & 0 & 0 & 0 & 1\\end{matrix}\\right]$"
      ],
      "text/plain": [
       "Matrix([\n",
       "[4, 2, 2, 2, 2, 1],\n",
       "[0, 2, 0, 0, 0, 1],\n",
       "[0, 0, 2, 0, 0, 1],\n",
       "[0, 0, 0, 2, 0, 1],\n",
       "[0, 0, 0, 0, 2, 1],\n",
       "[0, 0, 0, 0, 0, 1]])"
      ]
     },
     "metadata": {},
     "output_type": "display_data"
    }
   ],
   "source": [
    "M = Matrix([[1,1,1,1,1,1],\n",
    "              [1,1,1,1,-1,-1],\n",
    "              [1,1,1,-1,-1,1],\n",
    "              [1,1,-1,-1,1,1],\n",
    "              [1,-1,-1,1,1,1],\n",
    "              [1,-1,1,1,1,-1]])\n",
    "display(hermite_normal_form(M))"
   ]
  },
  {
   "cell_type": "code",
   "execution_count": 8,
   "id": "fee20136",
   "metadata": {},
   "outputs": [
    {
     "data": {
      "text/latex": [
       "$\\displaystyle \\left[\\begin{matrix}4 & 0 & 0 & 0 & 0 & 0 & 0 & 0\\\\2 & 2 & 0 & 0 & 0 & 0 & 0 & 0\\\\2 & 0 & 2 & 0 & 0 & 0 & 0 & 0\\\\2 & 0 & 0 & 2 & 0 & 0 & 0 & 0\\\\2 & 0 & 0 & 0 & 2 & 0 & 0 & 0\\\\2 & 0 & 0 & 0 & 0 & 2 & 0 & 0\\\\2 & 0 & 0 & 0 & 0 & 0 & 2 & 0\\\\1 & 1 & 1 & 1 & 1 & 1 & 1 & 1\\end{matrix}\\right]$"
      ],
      "text/plain": [
       "Matrix([\n",
       "[4, 0, 0, 0, 0, 0, 0, 0],\n",
       "[2, 2, 0, 0, 0, 0, 0, 0],\n",
       "[2, 0, 2, 0, 0, 0, 0, 0],\n",
       "[2, 0, 0, 2, 0, 0, 0, 0],\n",
       "[2, 0, 0, 0, 2, 0, 0, 0],\n",
       "[2, 0, 0, 0, 0, 2, 0, 0],\n",
       "[2, 0, 0, 0, 0, 0, 2, 0],\n",
       "[1, 1, 1, 1, 1, 1, 1, 1]])"
      ]
     },
     "metadata": {},
     "output_type": "display_data"
    }
   ],
   "source": [
    "B = Matrix([[-1,1,1,1,1,1,1,1],\n",
    "              [1,1,1,-1,-1,-1,-1,-1],\n",
    "              [1,-1,1,1,1,1,1,1],\n",
    "              [1,-1,-1,1,-1,1,1,1],\n",
    "              [1,-1,-1,-1,1,1,1,1],\n",
    "              [1,-1, 1,-1, 1, 1,-1, 1],\n",
    "              [1,-1,-1,-1,-1,-1, 1, 1],\n",
    "              [1, 1, 1,-1, 1,-1,-1, 1]\n",
    "              ])\n",
    "B[1,:] *=-1\n",
    "B[:,1:] *=-1\n",
    "display(hermite_normal_form(B).transpose())"
   ]
  }
 ],
 "metadata": {
  "kernelspec": {
   "display_name": "py311",
   "language": "python",
   "name": "python3"
  },
  "language_info": {
   "codemirror_mode": {
    "name": "ipython",
    "version": 3
   },
   "file_extension": ".py",
   "mimetype": "text/x-python",
   "name": "python",
   "nbconvert_exporter": "python",
   "pygments_lexer": "ipython3",
   "version": "3.11.8"
  }
 },
 "nbformat": 4,
 "nbformat_minor": 5
}
